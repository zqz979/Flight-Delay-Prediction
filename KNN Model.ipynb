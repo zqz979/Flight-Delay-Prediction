{
 "cells": [
  {
   "cell_type": "code",
   "execution_count": 1,
   "id": "bb3ec35a",
   "metadata": {},
   "outputs": [
    {
     "name": "stdout",
     "output_type": "stream",
     "text": [
      "              precision    recall  f1-score   support\n",
      "\n",
      "           0       0.82      0.95      0.88     21772\n",
      "           1       0.36      0.13      0.19      5141\n",
      "\n",
      "    accuracy                           0.79     26913\n",
      "   macro avg       0.59      0.54      0.53     26913\n",
      "weighted avg       0.73      0.79      0.75     26913\n",
      "\n"
     ]
    }
   ],
   "source": [
    "import pandas as pd\n",
    "import utils\n",
    "import sklearn\n",
    "from sklearn.model_selection import train_test_split\n",
    "from sklearn.neighbors import KNeighborsClassifier\n",
    "\n",
    "features,labels=utils.preproc_data(*utils.load_data(stock_only=True,subsample=0.1,input_path = \"C:\\\\Users\\\\Samved Deshpande\\\\Downloads\\\\data\\\\data\\\\all_data.csv\"))\n",
    "\n",
    "X_train, X_test, y_train, y_test = train_test_split(features, labels, test_size=0.2, random_state=42, stratify=labels)\n",
    "\n",
    "# Initialize and fit the K-nearest neighbors model\n",
    "knn = KNeighborsClassifier(n_neighbors=5)\n",
    "knn.fit(X_train, y_train)\n",
    "\n",
    "# Predict on the test data\n",
    "y_pred = knn.predict(X_test)\n",
    "\n",
    "print(sklearn.metrics.classification_report(y_test,y_pred))"
   ]
  },
  {
   "cell_type": "code",
   "execution_count": 1,
   "id": "1927e608",
   "metadata": {},
   "outputs": [
    {
     "name": "stdout",
     "output_type": "stream",
     "text": [
      "              precision    recall  f1-score   support\n",
      "\n",
      "           0       0.82      0.95      0.88     21750\n",
      "           1       0.36      0.12      0.18      5163\n",
      "\n",
      "    accuracy                           0.79     26913\n",
      "   macro avg       0.59      0.54      0.53     26913\n",
      "weighted avg       0.73      0.79      0.75     26913\n",
      "\n"
     ]
    }
   ],
   "source": [
    "import pandas as pd\n",
    "import utils\n",
    "import sklearn\n",
    "from sklearn.model_selection import train_test_split\n",
    "from sklearn.neighbors import KNeighborsClassifier\n",
    "\n",
    "features,labels=utils.preproc_data(*utils.load_data(stock_only=True,subsample=0.1, resample=False,bts_only=False,covid=None,select_features=False, input_path = \"C:\\\\Users\\\\Samved Deshpande\\\\Downloads\\\\data\\\\data\\\\all_data.csv\"))\n",
    "\n",
    "X_train, X_test, y_train, y_test = train_test_split(features, labels, test_size=0.2, random_state=42, stratify=labels)\n",
    "\n",
    "# Initialize and fit the K-nearest neighbors model\n",
    "knn = KNeighborsClassifier(n_neighbors=5)\n",
    "knn.fit(X_train, y_train)\n",
    "\n",
    "# Predict on the test data\n",
    "y_pred = knn.predict(X_test)\n",
    "\n",
    "print(sklearn.metrics.classification_report(y_test,y_pred))"
   ]
  },
  {
   "cell_type": "code",
   "execution_count": null,
   "id": "f00b75e4",
   "metadata": {},
   "outputs": [],
   "source": []
  },
  {
   "cell_type": "code",
   "execution_count": 1,
   "id": "f8c1f39b",
   "metadata": {
    "scrolled": true
   },
   "outputs": [
    {
     "name": "stdout",
     "output_type": "stream",
     "text": [
      "              precision    recall  f1-score   support\n",
      "\n",
      "           0       0.84      0.94      0.89    217789\n",
      "           1       0.46      0.22      0.29     51335\n",
      "\n",
      "    accuracy                           0.80    269124\n",
      "   macro avg       0.65      0.58      0.59    269124\n",
      "weighted avg       0.76      0.80      0.77    269124\n",
      "\n"
     ]
    }
   ],
   "source": [
    "import pandas as pd\n",
    "import utils\n",
    "import sklearn\n",
    "from sklearn.model_selection import train_test_split\n",
    "from sklearn.neighbors import KNeighborsClassifier\n",
    "\n",
    "features,labels=utils.preproc_data(*utils.load_data(stock_only=False,subsample=1.0, resample=False,bts_only=True,covid=None,select_features=False, input_path = \"C:\\\\Users\\\\Samved Deshpande\\\\Downloads\\\\data\\\\data\\\\all_data.csv\"))\n",
    "\n",
    "X_train, X_test, y_train, y_test = train_test_split(features, labels, test_size=0.2, random_state=42, stratify=labels)\n",
    "\n",
    "# Initialize and fit the K-nearest neighbors model\n",
    "knn = KNeighborsClassifier(n_neighbors=5)\n",
    "knn.fit(X_train, y_train)\n",
    "\n",
    "# Predict on the test data\n",
    "y_pred = knn.predict(X_test)\n",
    "\n",
    "print(sklearn.metrics.classification_report(y_test,y_pred))"
   ]
  },
  {
   "cell_type": "code",
   "execution_count": null,
   "id": "06c2a319",
   "metadata": {},
   "outputs": [],
   "source": []
  },
  {
   "cell_type": "code",
   "execution_count": 2,
   "id": "f0e37b19",
   "metadata": {},
   "outputs": [
    {
     "name": "stdout",
     "output_type": "stream",
     "text": [
      "              precision    recall  f1-score   support\n",
      "\n",
      "           0       0.84      0.94      0.89     76930\n",
      "           1       0.47      0.22      0.30     17683\n",
      "\n",
      "    accuracy                           0.81     94613\n",
      "   macro avg       0.66      0.58      0.59     94613\n",
      "weighted avg       0.77      0.81      0.78     94613\n",
      "\n"
     ]
    }
   ],
   "source": [
    "import pandas as pd\n",
    "import utils\n",
    "import sklearn\n",
    "from sklearn.model_selection import train_test_split\n",
    "from sklearn.neighbors import KNeighborsClassifier\n",
    "\n",
    "features,labels=utils.preproc_data(*utils.load_data(stock_only=False,subsample=1.0, resample=False,bts_only=True,covid=True,select_features=False, input_path = \"C:\\\\Users\\\\Samved Deshpande\\\\Downloads\\\\data\\\\data\\\\all_data.csv\"))\n",
    "\n",
    "X_train, X_test, y_train, y_test = train_test_split(features, labels, test_size=0.2, random_state=42, stratify=labels)\n",
    "\n",
    "# Initialize and fit the K-nearest neighbors model\n",
    "knn = KNeighborsClassifier(n_neighbors=5)\n",
    "knn.fit(X_train, y_train)\n",
    "\n",
    "# Predict on the test data\n",
    "y_pred = knn.predict(X_test)\n",
    "\n",
    "print(sklearn.metrics.classification_report(y_test,y_pred))"
   ]
  },
  {
   "cell_type": "code",
   "execution_count": 1,
   "id": "576f3b00",
   "metadata": {
    "scrolled": true
   },
   "outputs": [
    {
     "name": "stdout",
     "output_type": "stream",
     "text": [
      "              precision    recall  f1-score   support\n",
      "\n",
      "           0       0.63      0.61      0.62     51335\n",
      "           1       0.62      0.65      0.64     51334\n",
      "\n",
      "    accuracy                           0.63    102669\n",
      "   macro avg       0.63      0.63      0.63    102669\n",
      "weighted avg       0.63      0.63      0.63    102669\n",
      "\n"
     ]
    }
   ],
   "source": [
    "import pandas as pd\n",
    "import utils\n",
    "import sklearn\n",
    "from sklearn.model_selection import train_test_split\n",
    "from sklearn.neighbors import KNeighborsClassifier\n",
    "\n",
    "features,labels=utils.preproc_data(*utils.load_data(stock_only=False,subsample=1.0, resample=True,bts_only=False,covid=None,select_features=False, input_path = \"C:\\\\Users\\\\Samved Deshpande\\\\Downloads\\\\data\\\\data\\\\all_data.csv\"))\n",
    "\n",
    "X_train, X_test, y_train, y_test = train_test_split(features, labels, test_size=0.2, random_state=42, stratify=labels)\n",
    "\n",
    "# Initialize and fit the K-nearest neighbors model\n",
    "knn = KNeighborsClassifier(n_neighbors=5)\n",
    "knn.fit(X_train, y_train)\n",
    "\n",
    "# Predict on the test data\n",
    "y_pred = knn.predict(X_test)\n",
    "\n",
    "print(sklearn.metrics.classification_report(y_test,y_pred))"
   ]
  },
  {
   "cell_type": "code",
   "execution_count": 1,
   "id": "447037ec",
   "metadata": {},
   "outputs": [
    {
     "name": "stdout",
     "output_type": "stream",
     "text": [
      "              precision    recall  f1-score   support\n",
      "\n",
      "           0       0.82      0.95      0.88    217789\n",
      "           1       0.39      0.14      0.20     51335\n",
      "\n",
      "    accuracy                           0.79    269124\n",
      "   macro avg       0.60      0.54      0.54    269124\n",
      "weighted avg       0.74      0.79      0.75    269124\n",
      "\n"
     ]
    }
   ],
   "source": [
    "import pandas as pd\n",
    "import utils\n",
    "import sklearn\n",
    "from sklearn.model_selection import train_test_split\n",
    "from sklearn.neighbors import KNeighborsClassifier\n",
    "\n",
    "features,labels=utils.preproc_data(*utils.load_data(stock_only=True,subsample=1.0, resample=False,bts_only=False,covid=None,select_features=False, input_path = \"C:\\\\Users\\\\Samved Deshpande\\\\Downloads\\\\data\\\\data\\\\all_data.csv\"))\n",
    "\n",
    "X_train, X_test, y_train, y_test = train_test_split(features, labels, test_size=0.2, random_state=42, stratify=labels)\n",
    "\n",
    "# Initialize and fit the K-nearest neighbors model\n",
    "knn = KNeighborsClassifier(n_neighbors=5)\n",
    "knn.fit(X_train, y_train)\n",
    "\n",
    "# Predict on the test data\n",
    "y_pred = knn.predict(X_test)\n",
    "\n",
    "print(sklearn.metrics.classification_report(y_test,y_pred))"
   ]
  },
  {
   "cell_type": "code",
   "execution_count": null,
   "id": "a286b3e2",
   "metadata": {},
   "outputs": [],
   "source": []
  }
 ],
 "metadata": {
  "kernelspec": {
   "display_name": "Python 3 (ipykernel)",
   "language": "python",
   "name": "python3"
  },
  "language_info": {
   "codemirror_mode": {
    "name": "ipython",
    "version": 3
   },
   "file_extension": ".py",
   "mimetype": "text/x-python",
   "name": "python",
   "nbconvert_exporter": "python",
   "pygments_lexer": "ipython3",
   "version": "3.9.12"
  }
 },
 "nbformat": 4,
 "nbformat_minor": 5
}
