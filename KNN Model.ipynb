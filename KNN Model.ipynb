{
 "cells": [
  {
   "cell_type": "code",
   "execution_count": null,
   "id": "bb3ec35a",
   "metadata": {},
   "outputs": [],
   "source": [
    "import pandas as pd\n",
    "from sklearn.model_selection import train_test_split\n",
    "from sklearn.neighbors import KNeighborsClassifier\n",
    "\n",
    "# Define the chunk size\n",
    "chunk_size = 1000\n",
    "\n",
    "# Read the CSV file\n",
    "df = pd.read_csv('C:\\\\Users\\\\Samved Deshpande\\\\Downloads\\\\data\\\\data\\\\all_data.csv')\n",
    "\n",
    "# Sample 25% of the data\n",
    "sample_df = df.sample(frac=0.25, random_state=42)\n",
    "\n",
    "# Drop the 'NASDAQ', 'DOW', and 'AIR_STOCK' columns\n",
    "sample_df = sample_df.drop(columns=['NASDAQ', 'DOW', 'AIR_STOCK'])\n",
    "\n",
    "# Convert the 'TAIL_NUM', 'ORIGIN_CITY_NAME', and 'DEST_CITY_NAME' columns to dummy variables\n",
    "sample_df = pd.get_dummies(sample_df, columns=['TAIL_NUM', 'ORIGIN_CITY_NAME', 'DEST_CITY_NAME'])\n",
    "\n",
    "# Remove rows with missing values\n",
    "sample_df = sample_df.dropna()\n",
    "\n",
    "# Separate the features (X) and the target (y) columns\n",
    "X = sample_df.drop(columns=['ARR_DEL15'])\n",
    "y = sample_df['ARR_DEL15']\n",
    "\n",
    "# Split the sample data into train and test data with a 50/50 split\n",
    "X_train, X_test, y_train, y_test = train_test_split(X, y, test_size=0.5, random_state=42)\n",
    "\n",
    "# Initialize and fit the K-nearest neighbors model\n",
    "knn = KNeighborsClassifier(n_neighbors=5)\n",
    "knn.fit(X_train, y_train)\n",
    "\n",
    "# Predict on the test data\n",
    "y_pred = knn.predict(X_test)\n",
    "\n",
    "# Evaluate the model\n",
    "accuracy = knn.score(X_test, y_test)\n",
    "print(f'Accuracy: {accuracy:.2f}')\n"
   ]
  }
 ],
 "metadata": {
  "kernelspec": {
   "display_name": "Python 3 (ipykernel)",
   "language": "python",
   "name": "python3"
  },
  "language_info": {
   "codemirror_mode": {
    "name": "ipython",
    "version": 3
   },
   "file_extension": ".py",
   "mimetype": "text/x-python",
   "name": "python",
   "nbconvert_exporter": "python",
   "pygments_lexer": "ipython3",
   "version": "3.9.12"
  }
 },
 "nbformat": 4,
 "nbformat_minor": 5
}
