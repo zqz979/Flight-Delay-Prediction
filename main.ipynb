{
 "cells": [
  {
   "attachments": {},
   "cell_type": "markdown",
   "metadata": {},
   "source": [
    "## Import libraries"
   ]
  },
  {
   "cell_type": "code",
   "execution_count": 1,
   "metadata": {},
   "outputs": [],
   "source": [
    "import pandas as pd\n",
    "from sklearn.model_selection import train_test_split\n",
    "from sklearn.tree import DecisionTreeClassifier\n",
    "from sklearn.metrics import accuracy_score\n",
    "from tqdm import tqdm\n",
    "from sklearn.tree import plot_tree\n",
    "import matplotlib.pyplot as plt\n",
    "from sklearn.preprocessing import LabelEncoder\n"
   ]
  },
  {
   "attachments": {},
   "cell_type": "markdown",
   "metadata": {},
   "source": [
    "## Preprocess data"
   ]
  },
  {
   "cell_type": "code",
   "execution_count": 2,
   "metadata": {},
   "outputs": [],
   "source": [
    "# Loading data\n",
    "df = pd.read_csv('./data/raw_train_data.csv')\n",
    "#print(df.info())\n",
    "\n",
    "# drop rows where at least 1 feature is missing\n",
    "df.dropna(inplace=True)\n",
    "#print(df.info())\n",
    "\n",
    "# convert string features to integers\n",
    "le = LabelEncoder()\n",
    "df['ORIGIN'] = le.fit_transform(df['ORIGIN'])\n",
    "df['DEST'] = le.fit_transform(df['DEST'])\n",
    "\n",
    "# convert arrival delay feature from minutes to boolean\n",
    "# 0 for on time, 1 for delay\n",
    "df.loc[df['ARR_DELAY_NEW'] > 0.0, 'ARR_DELAY_NEW'] = 1\n",
    "\n"
   ]
  },
  {
   "attachments": {},
   "cell_type": "markdown",
   "metadata": {},
   "source": [
    "## Prepare DataFrame for Decision Tree\n"
   ]
  },
  {
   "cell_type": "code",
   "execution_count": 3,
   "metadata": {},
   "outputs": [],
   "source": [
    "X = df.drop(\"ARR_DELAY_NEW\", axis=1)\n",
    "y = df[\"ARR_DELAY_NEW\"]\n",
    "\n",
    "X_train, X_test, y_train, y_test = train_test_split(X, y, test_size=0.2, random_state=0)"
   ]
  },
  {
   "attachments": {},
   "cell_type": "markdown",
   "metadata": {},
   "source": [
    "## Train Decision Tree\n"
   ]
  },
  {
   "cell_type": "code",
   "execution_count": 4,
   "metadata": {},
   "outputs": [
    {
     "name": "stderr",
     "output_type": "stream",
     "text": [
      "100%|██████████| 100/100 [02:33<00:00,  1.53s/it]\n"
     ]
    }
   ],
   "source": [
    "clf = DecisionTreeClassifier()\n",
    "\n",
    "# progress bar at training time\n",
    "for _ in tqdm(range(100)):\n",
    "    clf.fit(X_train, y_train)"
   ]
  },
  {
   "attachments": {},
   "cell_type": "markdown",
   "metadata": {},
   "source": [
    "## Test"
   ]
  },
  {
   "cell_type": "code",
   "execution_count": 5,
   "metadata": {},
   "outputs": [
    {
     "name": "stdout",
     "output_type": "stream",
     "text": [
      "Accuracy: 0.7961252151984676\n"
     ]
    }
   ],
   "source": [
    "y_pred = clf.predict(X_test)\n",
    "\n",
    "# Evaluate the accuracy of the model\n",
    "accuracy = accuracy_score(y_test, y_pred)\n",
    "print(\"Accuracy:\", accuracy)"
   ]
  },
  {
   "attachments": {},
   "cell_type": "markdown",
   "metadata": {},
   "source": [
    "## Visualize Decision Tree"
   ]
  },
  {
   "cell_type": "code",
   "execution_count": 8,
   "metadata": {},
   "outputs": [
    {
     "name": "stdout",
     "output_type": "stream",
     "text": [
      "Number of nodes: 176935 \n",
      "Number of leaves: 88468 \n",
      "Depth:51\n"
     ]
    }
   ],
   "source": [
    "# check the complexity of the tree\n",
    "max_depth = clf.tree_.max_depth\n",
    "node_count = clf.tree_.node_count\n",
    "n_leaves = clf.tree_.n_leaves\n",
    "print(f'Number of nodes: {node_count} \\nNumber of leaves: {n_leaves} \\nDepth:{max_depth}')\n",
    "\n",
    "# Had problems visualizing it, too complex\n",
    "# plt.figure(figsize=(20,10))\n",
    "# plot_tree(clf, filled=True, rounded=True)\n",
    "# plt.show()"
   ]
  }
 ],
 "metadata": {
  "kernelspec": {
   "display_name": "ML",
   "language": "python",
   "name": "python3"
  },
  "language_info": {
   "codemirror_mode": {
    "name": "ipython",
    "version": 3
   },
   "file_extension": ".py",
   "mimetype": "text/x-python",
   "name": "python",
   "nbconvert_exporter": "python",
   "pygments_lexer": "ipython3",
   "version": "3.10.9"
  },
  "orig_nbformat": 4,
  "vscode": {
   "interpreter": {
    "hash": "835a06f688b698c7d614088d7afc5bde9bf71fddaf4dd29b1587dcde18254742"
   }
  }
 },
 "nbformat": 4,
 "nbformat_minor": 2
}
