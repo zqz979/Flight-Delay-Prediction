{
 "cells": [
  {
   "cell_type": "code",
   "execution_count": null,
   "metadata": {},
   "outputs": [],
   "source": [
    "import utils\n",
    "import numpy as np\n",
    "import torch\n",
    "import random\n",
    "import torch.nn.functional as F\n",
    "from torch import nn\n",
    "import pickle\n",
    "import scipy\n",
    "import pandas as pd\n",
    "\n",
    "np.random.seed(0)\n",
    "random.seed(0)\n",
    "torch.manual_seed(0)\n",
    "\n",
    "TEST_BATCH=1024\n",
    "\n",
    "NUM_CLASSES=2\n",
    "\n",
    "NUM_WORKERS=0\n",
    "PIN_MEMORY=True\n",
    "\n",
    "device = torch.device('cuda' if torch.cuda.is_available() else 'cpu')"
   ]
  },
  {
   "cell_type": "code",
   "execution_count": null,
   "metadata": {},
   "outputs": [],
   "source": [
    "class ANN(nn.Module):\n",
    "    def __init__(self,in_features,num_classes):\n",
    "        super().__init__()\n",
    "        self.fc1=nn.Linear(in_features=in_features,out_features=512)\n",
    "        self.fc2=nn.Linear(in_features=512,out_features=256)\n",
    "        self.fc3=nn.Linear(in_features=256,out_features=num_classes)\n",
    "    def forward(self,x):\n",
    "        pred=F.relu(self.fc1(x))\n",
    "        pred=F.relu(self.fc2(pred))\n",
    "        pred=self.fc3(pred)\n",
    "        return pred"
   ]
  },
  {
   "cell_type": "code",
   "execution_count": null,
   "metadata": {},
   "outputs": [],
   "source": [
    "class SparseDataset(torch.utils.data.Dataset):\n",
    "    def __init__(self,data,labels):\n",
    "        self.data=data\n",
    "        self.labels=labels\n",
    "    def __len__(self):\n",
    "        return len(self.labels)\n",
    "    def __getitem__(self,index):\n",
    "        return self.data[index].toarray()[0],self.labels[index]"
   ]
  },
  {
   "cell_type": "code",
   "execution_count": null,
   "metadata": {},
   "outputs": [],
   "source": [
    "def preproc_features(df):\n",
    "    cols=df.columns\n",
    "    cols=[col for col in cols if col not in utils.NO_1HOT_COLS]\n",
    "    with open('./models/preproc.sav', 'rb') as file:\n",
    "        preproc=pickle.load(file)\n",
    "    enc=preproc['enc']\n",
    "    df1=enc.transform(df[cols])\n",
    "    df2=df.drop(cols,axis=1)\n",
    "    df2=(df2-preproc['mean'])/preproc['std']\n",
    "    df2=scipy.sparse.csr_matrix(df2.values)\n",
    "    sp=scipy.sparse.hstack([df1,df2])\n",
    "    return sp.astype(np.float32)"
   ]
  },
  {
   "cell_type": "code",
   "execution_count": null,
   "metadata": {},
   "outputs": [],
   "source": [
    "def load_data():\n",
    "    features=utils.load_data(input_path=\"./input_data/input_data.csv\",separate=False)\n",
    "    features=preproc_features(features)\n",
    "    test_loader=torch.utils.data.DataLoader(\n",
    "        SparseDataset(features,np.zeros((features.shape[0],))),\n",
    "        batch_size=TEST_BATCH,\n",
    "        num_workers=NUM_WORKERS,\n",
    "        pin_memory=PIN_MEMORY\n",
    "    )\n",
    "    return test_loader"
   ]
  },
  {
   "cell_type": "code",
   "execution_count": null,
   "metadata": {},
   "outputs": [],
   "source": [
    "def test(test_loader, model):\n",
    "    outputs=[]\n",
    "    model=model.eval()\n",
    "    with torch.no_grad():\n",
    "        for data, target in test_loader:\n",
    "            data, target = data.to(device), target.to(device)\n",
    "            output = model(data).argmax(axis=1)\n",
    "            output=list(map(lambda x: x.item(),list(output.to('cpu'))))\n",
    "            outputs.extend(output)\n",
    "    return outputs"
   ]
  },
  {
   "cell_type": "code",
   "execution_count": null,
   "metadata": {},
   "outputs": [],
   "source": [
    "def main():\n",
    "    with open('./models/model.pth', 'rb') as file:\n",
    "        model=pickle.load(file)\n",
    "    test_loader=load_data()\n",
    "    model=model.to(device)\n",
    "    outputs=test(test_loader,model)\n",
    "    df=pd.DataFrame(data=outputs,columns=['Delay'])\n",
    "    df.to_csv('./outputs.csv',index=False)\n",
    "    print(df.head())"
   ]
  },
  {
   "cell_type": "code",
   "execution_count": null,
   "metadata": {},
   "outputs": [],
   "source": [
    "if __name__ == \"__main__\":\n",
    "    main()"
   ]
  }
 ],
 "metadata": {
  "kernelspec": {
   "display_name": "base",
   "language": "python",
   "name": "python3"
  },
  "language_info": {
   "codemirror_mode": {
    "name": "ipython",
    "version": 3
   },
   "file_extension": ".py",
   "mimetype": "text/x-python",
   "name": "python",
   "nbconvert_exporter": "python",
   "pygments_lexer": "ipython3",
   "version": "3.9.13"
  },
  "orig_nbformat": 4
 },
 "nbformat": 4,
 "nbformat_minor": 2
}
